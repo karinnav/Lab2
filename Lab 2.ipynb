{
 "cells": [
  {
   "cell_type": "markdown",
   "metadata": {},
   "source": [
    "## Lab 2 Due 9-7-18"
   ]
  },
  {
   "cell_type": "markdown",
   "metadata": {},
   "source": [
    "Below is the code used to create a phylogenetic tree of the sequences listed on the seq.fa file.  The tree file was used by first using the MUSCLE command by Bob Edgar to create a Multiple Sequence Alignment(MSA).  Then the resulting aligned fasta file was applied to the FastTree tool to output a Newick-formatted tree.  These commands were applied in the terminal.  "
   ]
  },
  {
   "cell_type": "code",
   "execution_count": 1,
   "metadata": {
    "scrolled": false
   },
   "outputs": [
    {
     "name": "stdout",
     "output_type": "stream",
     "text": [
      " , hu.39\n",
      " |\n",
      " | rh.50\n",
      " |\n",
      " , rh.57\n",
      " |\n",
      " | rh.51\n",
      " |\n",
      " | rh.49\n",
      " |\n",
      "_, rh.53\n",
      " |\n",
      " | rh.64\n",
      " |\n",
      " , rh.61\n",
      " |\n",
      " |, rh.58\n",
      " ||\n",
      " ||                              , pi.2\n",
      " ||          ____________________|\n",
      " ||         |                    |, pi.3\n",
      " ||         |                    ||\n",
      " ||         |                     | pi.1\n",
      " ||         |\n",
      " ||         |           , rh.10\n",
      " ||        _|          ,|\n",
      " ||       | |          ||, bb.1\n",
      " ||       | |          |||\n",
      " ||       | |   _______| | bb.2\n",
      " ||       | |  |       |\n",
      " ||       | |  |       | _ hu.17\n",
      " ||       | |  |       ||\n",
      " ||       | |__|        | hu.6\n",
      " ||       |    |\n",
      " ||       |    |    ______ rh.2\n",
      " ||       |    |   |\n",
      " ||       |    |___|         __ rh.40\n",
      " ||       |        |        |\n",
      " ||       |        |________|, hu.67\n",
      " ||       |                 ||\n",
      " ||       |                 |, hu.37\n",
      " ||       |                  |\n",
      " ||       |                  |, hu.40\n",
      " ||       |                  ||\n",
      " ||       |                  || hu.66\n",
      " ||       |                  ||\n",
      " ||       |                   , hu.41\n",
      " ||       |                   |\n",
      " ||       |                   | rh.38\n",
      " ||       |                   |\n",
      " ||       |                   | hu.42\n",
      " ||       |\n",
      " ||_______|                                        , cy.3\n",
      " |        |                                        |\n",
      " |        |                          ______________, cy.6\n",
      " |        |                         |              |\n",
      " |        |                         |              | cy.4\n",
      " |        |                         |              |\n",
      " |        |                _________|              , cy.5\n",
      " |        |               |         |              |\n",
      " |        |               |         |              | rh.13\n",
      " |        |               |         |\n",
      " |        |               |         |       , rh.35\n",
      " |        |            ___|         |_______|\n",
      " |        |           |   |                 , rh.36\n",
      " |        |           |   |                 |\n",
      " |        |           |   |                 | rh.37\n",
      " |        |           |   |\n",
      " |        |           |   |         ______ cy.2\n",
      " |        |           |   |________|\n",
      " |        |           |            |     __ rh.54\n",
      " |        |    _______|            |____|\n",
      " |        |   |       |                 |      __ rh.55\n",
      " |        |   |       |                 |_____|\n",
      " |        |   |       |                       | , rh.48\n",
      " |        |   |       |                       |_|\n",
      " |        |   |       |                         | rh.62\n",
      " |        |   |       |\n",
      " |        |   |       |                                _ hu.43\n",
      " |        |   |       |_______________________________|\n",
      " |        |___|                                       | , hu.48\n",
      " |            |                                       |_|\n",
      " |            |                                         |      , hu.44\n",
      " |            |                                         |______|\n",
      " |            |                                                | hu.46\n",
      " |            |\n",
      " |            |                                                   _ hu.14\n",
      " |            |     _____________________________________________|\n",
      " |            |    |                                             |  , hu.31\n",
      " |            |____|                                             |__|\n",
      " |                 |                                                | hu.32\n",
      " |                 |\n",
      " |                 |_______________ rh.43\n",
      " |\n",
      " | rh.52\n",
      "\n"
     ]
    }
   ],
   "source": [
    "%matplotlib inline\n",
    "\n",
    "from Bio import Phylo\n",
    "from io import StringIO\n",
    "\n",
    "tree = Phylo.read(\"tree.nwk\", \"newick\")\n",
    "\n",
    "Phylo.draw_ascii(tree)"
   ]
  },
  {
   "cell_type": "markdown",
   "metadata": {},
   "source": [
    "In the Newick tree above, I find 3 clusters.\n",
    "\n",
    "**Cluster Sequences:**\n",
    "Cluster 1: hu.39, rh.50, rh.57, rh.51, rh.49, rh.53, rh.64, rh.61, rh.58\n",
    "\n",
    "Cluster 2: pi.2, pi.3, pi.1, rh.10, bb.1, bb.2, hu.17, hu.6, rh.2, rh.40, hu.67, hu.37, hu.40, hu.67, hu.37, hu.40, hu.66, hu.41, rh.38, hu.42\n",
    "\n",
    "Cluster 3: cy.3, cy.6, cy.4, cy.5, rh.13, rh.35, rh.36, rh.37, cy.2, rh.54, rh.55, rh.48, rh.62, hu.43, hu.48, hu.44, hu.46, hu.14, hu.31, hu.32\n",
    "\n",
    "I chose hu.39, hu.40, and cy.3 as representative sequences for my clusters.  These sequences will analyzed for matches using BLAST.  \n"
   ]
  },
  {
   "cell_type": "code",
   "execution_count": 42,
   "metadata": {},
   "outputs": [
    {
     "name": "stdout",
     "output_type": "stream",
     "text": [
      "cy.3\n",
      "atggctgccgatggttatcttccagattggctcgaggacaacctctctgagggcattcgcgagtggtgggacttgaaacctggagccccgaaacccaaagccaaccagcaaaagcaggacgacggccggggtctggtgcttcctggctacaagtacctcagacccttcaacggactcgacaagggagagccggtcaacgaggcagacgccgcggccctcgagcacgacaaggcctacgacaagcagctcgagcagggggacaacccgtacctcaagtacaaccacgccgacgccgagtttcaggagcgtcttcaagaagatacgtcttttgggggcaacctcgggcgagcagtcttccaggccaagaagcgggttctcgaacctctcggtctggttgaggaagtcgctaagacggctcctggaaagaagagacccatagaatcccccgactcctccacgggcatcggcaagaaaggccagcagcccgctaaaaagaagctcaactttgggcagactggcgactcagagtcagtgcccgacccccaacctctcggagaacctcccgccgcgccctcaggtctgggatctggtacaatggctgcaggcggtggcgcaccaatggcagacaataacgaaggcgccgacggagtgggtaatgcctccggaaattggcattgcgattccacatggctgggcgacagagtcatcaccaccagcacccgcacctgggccctgcccacctacaacaaccacctctacaagcagatatcaagtcagagcggggctaccaacgacaaccacttcttcagctacagcaccccctggggctattttgacttcaacagattccactgccacttctcaccacgtgactggcagcgactcatcaacaacaactggggattccggcccagaaagctgcggttcaagttgttcaacatccaggtcaaggaggtcacgacgaacgacggcgttacgaccatcgctaataaccttaccagcacgattcaggtcttctcggactcggagtaccaactgccgtacgtcctcggctctgcgcaccagggctgcctccctccgttccctgcggacgtgttcatgattcctcagtacggatatctgactctaaacaacggcagtcagtctgtgggacgttcctccttctactgcctggagtactttccttctcagatgctgagaacgggcaataactttgaattcagctacacctttgaggaagtgcctttccacagcagctatgtgcacagccagagcctagaccggctgatgaatcccctcatcgaccagtacctgtactacctggcccggacccagagcactacggggtccacaagggagctgcagttccatcaggctgggcccaacaccatggccgagcaatcaaagaactggctgcccggaccctgttatcggcagcagagactgtcaaaaaacatagacagcaacaacaacagtaactttgcctggaccggggccactaaataccatctgaatggtagaaattcattaaccaacccgggcgtagccatggccaccaacaaggacgacgaggaccagttctttcccatcaacggagtgctggtttttggcaaaacgggggctgccaacaagacaacgctggaaaacgtgctaatgaccagcgaggaggagatcaaaaccaccaatcccgtggctacagaagaatacggtgtggtctccagcaacctgcaatcgtctacggccggaccccagacacagactgtcaacagccagggggctctgcccggcatggtctggcagaaccgggacgtgtgcctgcagggtcccatctgggccaaaattcctcacacggacggcaactttcacccgtctcccctgatgggcggatttggactcaaacacccgcctcctcaaattctcatcaaaaacaccccggtacctgctaatcctccagaggtgtttactcctgccaagtttgcctcatttatcacgcagtacagcaccggccaggtcagcgtggagatcgagtgggaactgcagaaagaaaacagcaaacgctggaatccagagattcagtacacctcaaattatgccaagtctaataatgtggaatttgctgtcaacaacgaaggggtttatactgagcctcgccccattggcacccgttacctcacccgtaacctgtaa\n",
      "hu.39\n",
      "atggctgccgatggttatcttccagattggctcgaggacaacctctctgagggcattcgcgagtggtgggacctgaaacctggagccccgaaacccaaagccaaccagcaaaagcaggacgacggccggggtctggtgcttcctggctacaagtacctcggacccttcaacggactcgacaagggggagcccgtcaacgcggcggacgcagcggccctcgagcacgacaaggcctacgaccagcagctcaaagcgggtgacaatccgtacctgcggtataatcacgccgacgccgagtttcaggagcgtctgcaagaagatacgtcttttgggggcaacctcgggcgagcagtcttccaggccaagaagcgggttctcgaacctctcggtctggttgaggaaggcgctaagacggctcctggaaagaagagaccggtagagccgtcaccacagcgttcccccgactcctccacgggcatcggcaagaaaggccagcagcccgccagaaagagactcaatttcggtcggactggcgactcagagtcagtccccgaccctcaacctatcggagaacctccagcagcgccctctagtgtgggatctggtacaatggctgcaggcggtggcgcaccaatggcagacaataacgaaggtgccgacggagtgggtagttcctcgggaaattggcattgcgattccacatggctgggcgacagagttatcaccaccagcacccgaacctgggccctgcccacctacaacaaccacctctacaagcaaatctccaacgggacctcgggaggcagcaccaacgacaacacctactttggctacagcaccccctgggggtatcttgactttaacagattccactgccacttctcaccacgtgactggcagcgactcatcaacaacaactggggattccggcccaagagactcagcttcaagctcttcaacatccaggtcaaagaggtcacgcagaatgaaggcaccaagaccatcgccaataacctcgccagcaccatccaggtgtttacggactcggaataccagccgccgtacgtcctcggctctgcccaccagggctgcctgcctccgttcccggcggacgtcttcatgattcctcagtacggctacctgactctcaacaacggtagtcaggccgtgggacgttcctccttctactgcctggagtacttcccctctcagatgctgagaacgggcaacaacttttccttcagctacactttcgaggacgtgcctttccacagcagctacgcgcacagccagagtttggacaggctgatgaatcctctcatcgaccagtacctgtactacctgtcaagaacccagtctacgggaggcacagcgggaacccagcagttgctgttttctcgggccgggcctagcaacatgtcggctcaggccagaaactggctgcctggaccctgctacagacagcagcgcgtctccacgacactgtcgcaaaacaacaacagcaactttgcctggactggtgccaccaagtatcatctgaacggcagagactctctggtgaatccgggcgtcgccatggcaaccaacaaggacgacgaggaccgcttcttcccatccagcggcatcctcatgtttggcaagcagggagctggaaaagacaacgtggactatagcaacgtgatgctaaccagcgaggaagaaatcaagaccaccaaccccgtggccacagaacagtatggcgtggtggctgataacctacagcagcaaaacaccgctcctactgtgggggccgtcaacagccagggagccttacctggcatggtctggcagaaccgggacgtgtacctgcagggtcctatttgggccaagattcctcacacagatggcaactttcacccgtctcctttaatgggcggctttggacttaaacatccgcctcctcagatcctcatcaaaaacactcctgttcctgcggatcctccaacagcgttcaaccaggccaagctgaattctttcatcgcgcagtacagcaccggacaagtcagcgtggagatcgagtgggagctgcagaaggagaacagcaagcgctggaacccagagattcagtatacttccaactactacaaatctacaaatgcggactttgctgttaatactgagggtgtttactctgagcctcgccccattggcactcgttacctcacccgtaatctgtaa\n",
      "hu.40\n",
      "atggctgctgacggttatcttccagattggctcgaggacaacctctctgagggcattcgcgagtggtgggacctgaaacctggagcccccaagcccaaggccaaccagcagaagcaggacgacggccggggtctggtgcttcctggctacaagtacctcggacccttcaacggactcgacaagggggagcccgtcaacgcggcggacgcagcggccctcgagcacgacaaggcctacgaccagcagctcaaagcgggtgacaatccgtacctgcggtataaccacgccgacgccgagtttcaggagcgtctgcaagaagatacgtcttttgggggcaacctcgggcgagcagtcttccaggccaagaagcgggttctcgaacctctcggtctggttgaggaagctgctaagacggctcctggaaagaagagaccggtagaaccgtcacctcagcgttcccccgactcctccacgggcatcggcaagaaaggccagcagcccgctaaaaagagactgagctttggtcagactggcgactcagagtcagtccccgaccctcaaccaatcggagaaccaccagcaggcccctctggtctgggatctggtacaatggctgcaggcggtggcgctccaatggcagacaataacgaaggcgccgacggagtgggtagttcctcaggaaattggcattgcgattccacatggctgggcgacagagtcatcaccaccagcacccgaacctgggccctgcccacctacaacaaccacctctacaagcaaatatccaatgggacatcgggaggaagcaccaacgacaacacctacttcggctacagcaccccctgggggtattttgacttcaacagattccactgccacttctcaccacgtgactggcagcgactcatcaacaacaactggggattccggccaaaaagactcagcttcaagctcttcaacatccaggtcaaggaggtcacgcagaatgaaggcaccaagaccatcgccaataaccttaccagcacgattcaggtatttacggactcggaataccagctgccgtacgtcctcggctccgcgcaccagggctgcctgcctccgttcccggcggacgtcttcatgattccccagtacggctaccttacactgaacaatggaagtcaagccgtaggccgttcctccttctactgcctggaatattttccatctcaaatgctgcgaactggaaacaattctgaattcagctacaccttcgaggacgtgcctttccacagcagctacgcacacagccagagcttggaccgactgatgaatcctctcatcgaccagtacctgtactacttatccagaactcagtccacaggaggaactcaaggtacccagcaattgttattttctcaagctgggcctgcaaacatgtcggctcaggctaagaactggctacctggaccttgctaccggcagcagcgagtctctacgacactgtcgcaaaacaacaacagcaactttgcttggactggtgccaccaaatatcacctgaacggaagagactctttggtaaatcccggtgtcgccatggcaacccacaaggacgacgaggaacgcttcttcccgtcgagtggagtcctgatgtttggaaaacagggtgctggaagagacaatgtggactacagcagcgttatgctaaccagcgaagaagaaattaaaaccactaaccctgtagccacagaacaatacggtgtggtggctgacaacttgcagcaaaccaatacagggcctattgtgggaaatgtcaacagccaaggagccttacctggcatggtctggcagaaccgagacgtgtacctgcagggtcccatctgggccaagattcctcacacggacggcaacttccacccttcaccgctaatgggaggatttggactgaagcacccacctcctcagatcctgatcaagaacacgccggtacctgcggatcctccaacaacgttcagccaggcgaaattggcttccttcattacgcagtacagcaccggacaggtcagcgtggaaatcgagtgggagctgcagaaggagaacagcaaacgctggaacccagagattcagtacacttcaaactactacaaatctacaaatgtggactttgctgtcaatacagagggaacttattctgagcctcgccccattggtactcgttacctcacccgtaatctgtaa\n"
     ]
    }
   ],
   "source": [
    "from Bio import SeqIO\n",
    "\n",
    "#List of representative cluster sequence IDs\n",
    "clusterReps_seqs = [\"hu.39\", \"cy.3\", \"hu.40\"]\n",
    "\n",
    "for seq_rec in SeqIO.parse(\"seqs.fa\", \"fasta\"):\n",
    "    #Prints the representative clusters to the screen\n",
    "    if seq_rec.id in clusterReps_seqs: \n",
    "        print(seq_rec.id + \"\\n\" + seq_rec.seq)\n",
    "        "
   ]
  },
  {
   "cell_type": "markdown",
   "metadata": {},
   "source": [
    "**BLAST Results**\n",
    "\n",
    "These are the top 4 matches found for each cluster using BLAST. \n",
    "\n",
    "*Most Common Matches:*\n",
    "**hu.39:**\n",
    "-Adeno-associated virus isolate hu.39 capsid protein VP1 (cap) gene, complete cds\n",
    "-Adeno-associated virus isolate rh.64R1 capsid protein VP1 gene, partial cds\n",
    "-Adeno-associated virus isolate rh.46 capsid protein VP1 gene, partial cds\n",
    "-Adeno-associated virus isolate rh.64 capsid protein VP1 (cap) gene, complete cds\n",
    "\n",
    "**hu.40:**\n",
    "-Adeno-associated virus isolate hu.40 capsid protein VP1 (cap) gene, complete cds\n",
    "-Adeno-associated virus isolate hu.37 capsid protein VP1 (cap) gene, complete cds\n",
    "-Adeno-associated virus isolate hu.42 capsid protein VP1 (cap) gene, complete cds \n",
    "-Adeno-associated virus isolate hu.67 capsid protein VP1 (cap) gene, complete cds\n",
    "\n",
    "**cy.3:**\n",
    "-Non-human primate Adeno-associated virus isolate AAVcy.3 capsid protein (VP1) gene, complete cds\n",
    "-Non-human primate Adeno-associated virus isolate AAVrh.13 capsid protein (VP1) gene, complete cds\n",
    "-Adeno-associated virus isolate cy.5R4 capsid protein VP1 gene, partial cds \n",
    "-Adeno-associated virus isolate cy.1R1 capsid protein VP1 gene, partial cds \n",
    "\n",
    "\n",
    "Overall, the complete list of BLAST matches for each cluster are very similar.  However, their matches differ in match score.  They do match to the same genes in differing degrees.\n",
    "\n",
    "I did not find any matches that definitely do not match the others.  I would not necessarily trust the sequence annotations in our BLAST results because for two reasons.  One reason is that all of the database information is collected experimentally, and the second reason is because the match is determined through a combination of different factors.\n",
    "\n",
    "######################################################################\n",
    "Below, I will use SeqIO to write cluster fasta files that include only sequences in that cluster.  These new fasta files will be used to subsequently align each cluster."
   ]
  },
  {
   "cell_type": "code",
   "execution_count": 43,
   "metadata": {},
   "outputs": [
    {
     "data": {
      "text/plain": [
       "21"
      ]
     },
     "execution_count": 43,
     "metadata": {},
     "output_type": "execute_result"
    }
   ],
   "source": [
    "from Bio import SeqIO\n",
    "\n",
    "#Creates lists of the ids of the sequences in each cluster\n",
    "\n",
    "#Cluster 1\n",
    "cluster1_seqs = [\"hu.39\", \"rh.50\", \"rh.57\", \"rh.51\", \"rh.49\", \"rh.53\", \"rh.64\", \"rh.61\", \"rh.58\"]\n",
    "my_recs = []\n",
    "\n",
    "for seq_rec in SeqIO.parse(\"seqs.fa\", \"fasta\"):\n",
    "    #creates a new fasta file for the sequences specified\n",
    "    if seq_rec.id in cluster1_seqs: \n",
    "        my_recs.append(seq_rec)\n",
    "   \n",
    "SeqIO.write(my_recs, open(\"cluster1.fa\", \"w\"), \"fasta\")\n",
    "\n",
    "#Cluster 2\n",
    "cluster2_seqs = [\"pi.2\", \"pi.1\", \"pi.3\", \"rh.10\", \"bb.1\", \"bb.2\", \"hu.17\", \"hu.6\", \n",
    "                \"rh.2\", \"rh.40\", \"hu.67\", \"hu.37\", \"hu.40\", \"hu.66\", \"hu.41\", \"rh.38\", \n",
    "                 \"hu.42\"]\n",
    "my_recs = []\n",
    "\n",
    "for seq_rec in SeqIO.parse(\"seqs.fa\", \"fasta\"):\n",
    "    #creates a new fasta file for the sequences specified\n",
    "    if seq_rec.id in cluster2_seqs: \n",
    "        my_recs.append(seq_rec)\n",
    "   \n",
    "SeqIO.write(my_recs, open(\"cluster2.fa\", \"w\"), \"fasta\")\n",
    "\n",
    "#Cluster 3\n",
    "cluster3_seqs = [\"cy.3\", \"cy.6\", \"cy.4\", \"cy.5\", \"rh.13\", \"rh.35\", \"rh.36\", \n",
    "                \"rh.37\", \"cy.2\", \"rh.54\", \"rh.55\", \"rh.48\", \"rh.62\", \"hu.43\", \n",
    "                \"hu.48\", \"hu.44\", \"hu.46\", \"hu.14\", \"hu.31\", \"hu.32\", \"rh.43\"]\n",
    "my_recs = []\n",
    "\n",
    "for seq_rec in SeqIO.parse(\"seqs.fa\", \"fasta\"):\n",
    "    #creates a new fasta file for the sequences specified\n",
    "    if seq_rec.id in cluster3_seqs: \n",
    "        my_recs.append(seq_rec)\n",
    "   \n",
    "SeqIO.write(my_recs, open(\"cluster3.fa\", \"w\"), \"fasta\")\n",
    "\n",
    "#Use the muscle function in the terminal to make an aligned fasta file  "
   ]
  },
  {
   "cell_type": "markdown",
   "metadata": {},
   "source": [
    "I processed each cluster fasta file using the MUSCLE tool in the terminal to get aligned cluster fasta files.\n",
    "\n",
    "Using AlignIO allowed me to create tables for each alignment that can be analyzed by column.  Each column in the table represents a sequence position, and each row represents a sequence in the cluster.  \n",
    "\n",
    "In order to see if there are any cluster regions of DNA that are skewed toward AT or GC nucleotides, I can calculate the percentage of AT and GC nucleotides at each position across all sequences in a cluster.  Using the bar graph function the from matplotlib package, I can show each sequence position as a bar that is a combination of AT and GC percentages.  \n",
    "\n",
    "*Each bar would have a height of 1 if there are no gaps in the alignment.\n",
    "\n",
    "To do this, I can iterate horizontally across the table and count the number of AT and GC nucleotides in each column.  These counts can then be converted to percentages and shown on a stacked bar graph.\n"
   ]
  },
  {
   "cell_type": "code",
   "execution_count": 44,
   "metadata": {
    "scrolled": true
   },
   "outputs": [
    {
     "data": {
      "text/plain": [
       "Text(0.5,1,'Cluster 1: Positional AT versus GC Content')"
      ]
     },
     "execution_count": 44,
     "metadata": {},
     "output_type": "execute_result"
    },
    {
     "data": {
      "image/png": "[encoded data removed]",
      "text/plain": [
       "<Figure size 432x288 with 1 Axes>"
      ]
     },
     "metadata": {},
     "output_type": "display_data"
    }
   ],
   "source": [
    "%matplotlib inline\n",
    "import numpy as np\n",
    "import matplotlib.pyplot as plt\n",
    "import seaborn as sns\n",
    "import pandas as pd\n",
    "from Bio import AlignIO\n",
    "from Bio.Alphabet import IUPAC, Gapped\n",
    "from Bio.Align import MultipleSeqAlignment\n",
    "\n",
    "#############################################################################################\n",
    "#Cluster 1\n",
    "#Making an AlignIO table for each aligned sequence file\n",
    "align1 = AlignIO.read(open(\"cluster1.aligned.fa\"), \"fasta\")\n",
    "\n",
    "#Practicing indexing the MSA object\n",
    "#print(align)\n",
    "#print(align[:,0])\n",
    "#print(align.get_alignment_length())\n",
    "#print(len(align))\n",
    "\n",
    "#Lists for percentages of GC and AT content\n",
    "listOfAT = []\n",
    "listOfGC = []\n",
    "\n",
    "for num in range(align1.get_alignment_length()):\n",
    "    #Npos is all the nucleotides found at position num\n",
    "    Npos = align1[:,num];\n",
    "    #calculates number of AT and GC nucleotides over number of compared sequences\n",
    "    ATsum = (Npos.count(\"A\")+Npos.count(\"T\"))/len(Npos)\n",
    "    GCsum = (Npos.count(\"G\")+Npos.count(\"C\"))/len(Npos)\n",
    "    #adds content percentages to a lists\n",
    "    listOfAT.append(ATsum)\n",
    "    listOfGC.append(GCsum)\n",
    "\n",
    "MaxLength = align1.get_alignment_length()    \n",
    "#line_out is the name of the graph.  bottom function sets the bottom\n",
    "#of the second data set at the top of the first.\n",
    "line_out = plt.bar(height = listOfAT, x = range(MaxLength))\n",
    "line_out = plt.bar(height = listOfGC, bottom = listOfAT, x = range(MaxLength))\n",
    "plt.xlabel(\"Position in Sequence\")\n",
    "plt.ylabel(\"% AT of % GC\")\n",
    "plt.title(\"Cluster 1: Positional AT versus GC Content\")\n"
   ]
  },
  {
   "cell_type": "code",
   "execution_count": 45,
   "metadata": {},
   "outputs": [
    {
     "data": {
      "text/plain": [
       "Text(0.5,1,'Cluster 2: Positional AT versus GC Content')"
      ]
     },
     "execution_count": 45,
     "metadata": {},
     "output_type": "execute_result"
    },
    {
     "data": {
      "image/png": "[encoded data removed]",
      "text/plain": [
       "<Figure size 432x288 with 1 Axes>"
      ]
     },
     "metadata": {},
     "output_type": "display_data"
    }
   ],
   "source": [
    "#############################################################################################\n",
    "#Cluster 2\n",
    "#Making an AlignIO table for each aligned sequence file\n",
    "align2 = AlignIO.read(open(\"cluster2.aligned.fa\"), \"fasta\")\n",
    "\n",
    "#Lists for percentages of GC and AT content\n",
    "listOfAT = []\n",
    "listOfGC = []\n",
    "\n",
    "for num in range(align2.get_alignment_length()):\n",
    "    Npos = align2[:,num];\n",
    "    #calculates number of AT and GC nucleotides over number of compared sequences\n",
    "    ATsum = (Npos.count(\"A\")+Npos.count(\"T\"))/len(Npos)\n",
    "    GCsum = (Npos.count(\"G\")+Npos.count(\"C\"))/len(Npos)\n",
    "    #adds content percentages to a lists\n",
    "    listOfAT.append(ATsum)\n",
    "    listOfGC.append(GCsum)\n",
    "\n",
    "MaxLength = align2.get_alignment_length()  \n",
    "#line_out is the name of the graph.  bottom function sets the bottom\n",
    "#of the second data set at the top of the first.\n",
    "line_out2 = plt.bar(height = listOfAT, x = range(MaxLength))\n",
    "line_out2 = plt.bar(height = listOfGC, bottom = listOfAT, x = range(MaxLength))\n",
    "\n",
    "#Adding labels to graph\n",
    "plt.xlabel(\"Position in Sequence\")\n",
    "plt.ylabel(\"% AT of % GC\")\n",
    "plt.title(\"Cluster 2: Positional AT versus GC Content\")\n",
    "\n"
   ]
  },
  {
   "cell_type": "code",
   "execution_count": 46,
   "metadata": {},
   "outputs": [
    {
     "data": {
      "text/plain": [
       "Text(0.5,1,'Cluster 3: Positional AT versus GC Content')"
      ]
     },
     "execution_count": 46,
     "metadata": {},
     "output_type": "execute_result"
    },
    {
     "data": {
      "image/png": "[encoded data removed]",
      "text/plain": [
       "<Figure size 432x288 with 1 Axes>"
      ]
     },
     "metadata": {},
     "output_type": "display_data"
    }
   ],
   "source": [
    "#############################################################################################\n",
    "#Cluster 3\n",
    "#Making an AlignIO table for each aligned sequence file\n",
    "align3 = AlignIO.read(open(\"cluster3.aligned.fa\"), \"fasta\")\n",
    "\n",
    "#Lists for percentages of GC and AT content\n",
    "listOfAT = []\n",
    "listOfGC = []\n",
    "\n",
    "for num in range(align3.get_alignment_length()):\n",
    "    Npos = align3[:,num];\n",
    "    #calculates number of AT and GC nucleotides over number of compared sequences\n",
    "    ATsum = (Npos.count(\"A\")+Npos.count(\"T\"))/len(Npos)\n",
    "    GCsum = (Npos.count(\"G\")+Npos.count(\"C\"))/len(Npos)\n",
    "    #adds content percentages to a lists\n",
    "    listOfAT.append(ATsum)\n",
    "    listOfGC.append(GCsum)\n",
    "\n",
    "MaxLength = align3.get_alignment_length()  \n",
    "#line_out is the name of the graph.  bottom function sets the bottom\n",
    "#of the second data set at the top of the first.\n",
    "line_out3 = plt.bar(height = listOfAT, x = range(MaxLength))\n",
    "line_out3 = plt.bar(height = listOfGC, bottom = listOfAT, x = range(MaxLength))\n",
    "\n",
    "#Adding labels to graph\n",
    "plt.xlabel(\"Position in Sequence\")\n",
    "plt.ylabel(\"% AT of % GC\")\n",
    "plt.title(\"Cluster 3: Positional AT versus GC Content\")\n",
    "\n"
   ]
  },
  {
   "cell_type": "markdown",
   "metadata": {},
   "source": [
    "I can show the distribution of sequence lengths in each cluster using box plots from the package matplotlib."
   ]
  },
  {
   "cell_type": "code",
   "execution_count": 51,
   "metadata": {},
   "outputs": [
    {
     "name": "stdout",
     "output_type": "stream",
     "text": [
      "[2217, 2217, 2217, 2217, 2217, 2217, 2217, 2217, 2217]\n",
      "[2217, 2217, 2217, 2217, 2217, 2217, 2217, 2217, 2217, 2217, 2196, 2196, 2196, 2217, 2217, 2217, 2217]\n",
      "[2214, 2187, 2187, 2187, 2187, 2211, 2211, 2211, 2214, 2211, 2211, 2211, 2187, 2190, 2190, 2190, 2211, 2214, 2214, 2214, 2214]\n"
     ]
    },
    {
     "data": {
      "image/png": "[encoded data removed]",
      "text/plain": [
       "<Figure size 432x288 with 1 Axes>"
      ]
     },
     "metadata": {},
     "output_type": "display_data"
    },
    {
     "data": {
      "image/png": "[encoded data removed]",
      "text/plain": [
       "<Figure size 432x288 with 1 Axes>"
      ]
     },
     "metadata": {},
     "output_type": "display_data"
    },
    {
     "data": {
      "image/png": "[encoded data removed]",
      "text/plain": [
       "<Figure size 432x288 with 1 Axes>"
      ]
     },
     "metadata": {},
     "output_type": "display_data"
    }
   ],
   "source": [
    "#BOXPLOT SHOWING DIFFERENCES IN LEGNTH\n",
    "#Cluster 1\n",
    "Seq_Lengths1 = []\n",
    "\n",
    "for seq_rec in SeqIO.parse(\"cluster1.fa\", \"fasta\"):\n",
    "    Seq_Lengths1.append(len(seq_rec))\n",
    "\n",
    "print(Seq_Lengths1)\n",
    "\n",
    "#Cluster 2\n",
    "Seq_Lengths2 = []\n",
    "\n",
    "for seq_rec in SeqIO.parse(\"cluster2.fa\", \"fasta\"):\n",
    "    Seq_Lengths2.append(len(seq_rec))\n",
    "\n",
    "print(Seq_Lengths2)\n",
    "\n",
    "\n",
    "#Cluster 3\n",
    "Seq_Lengths3 = []\n",
    "\n",
    "for seq_rec in SeqIO.parse(\"cluster3.fa\", \"fasta\"):\n",
    "    Seq_Lengths3.append(len(seq_rec))\n",
    "\n",
    "print(Seq_Lengths3)\n",
    "\n",
    "plt.boxplot(Seq_Lengths1, labels = [\"Cluster 1\"])\n",
    "plt.title(\"Cluster 1\")\n",
    "plt.show()\n",
    "\n",
    "plt.boxplot(Seq_Lengths2, labels = [\"Cluster 2\"])\n",
    "plt.title(\"Cluster 2\")\n",
    "plt.show()\n",
    "\n",
    "plt.boxplot(Seq_Lengths3, labels = [\"Cluster 3\"])\n",
    "plt.title(\"Cluster 3\")\n",
    "plt.show()"
   ]
  },
  {
   "cell_type": "markdown",
   "metadata": {},
   "source": [
    "The shapes of the boxplots reflect the sequence lengths found in each cluster.  For cluster 1, all sequences are the same length, so the box plot is a line.  For cluster 2, all sequences are the same length except 3, so the box plot is a line plus an outlier group.  For cluster 3, there is a range of sequence lengths, so the components of the box plot are more visible."
   ]
  }
 ],
 "metadata": {
  "kernelspec": {
   "display_name": "Python 3",
   "language": "python",
   "name": "python3"
  },
  "language_info": {
   "codemirror_mode": {
    "name": "ipython",
    "version": 3
   },
   "file_extension": ".py",
   "mimetype": "text/x-python",
   "name": "python",
   "nbconvert_exporter": "python",
   "pygments_lexer": "ipython3",
   "version": "3.6.5"
  }
 },
 "nbformat": 4,
 "nbformat_minor": 2
}
